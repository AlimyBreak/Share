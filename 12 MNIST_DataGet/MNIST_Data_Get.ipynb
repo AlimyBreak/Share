{
 "cells": [
  {
   "cell_type": "markdown",
   "metadata": {},
   "source": [
    "<div  align = middle style=\"font-size:250%;font-weight:bold\">\n",
    "    MNIST 数据集的解析\n",
    "</div>\n",
    "\n",
    "\n",
    "***\n",
    "\n",
    "| 文件版本 |    修改内容    |  修改者/时间   |\n",
    "| :-: | :-: | :-: |\n",
    "|   V0.1   | 首次编写该文档 | YQW/2020.10.25 |\n",
    "\n",
    "\n",
    "***\n",
    "\n",
    "## 1.  数据说明\n",
    "\n",
    "+ 数据来源:[THE MNIST DATABASE of handwritten digits](http://yann.lecun.com/exdb/mnist/)\n",
    "+ 数据包信息:\n",
    "\n",
    "|Package name | Contents|\n",
    "|  :-:  | :-:  |\n",
    "|Training set images | 60,000 个样本|\n",
    "|Training set labels | 60,000 个标签|\n",
    "|Test set images| 10,000 个样本|\n",
    "|Test set labels| 10,000 个标签|\n",
    "\n",
    "+ 注意：gz文件是压缩文件，需要再次解压，否则无法进行二进制读取。\n",
    "\n",
    "\n",
    "## 2.  Ref\n",
    "+ [THE MNIST DATABASE of handwritten digits](http://yann.lecun.com/exdb/mnist/)\n",
    "+ [详解 MNIST 数据集](https://blog.csdn.net/simple_the_best/article/details/75267863)\n",
    "+ [jupyter入门之Matplotlib](https://blog.csdn.net/weixin_42042680/article/details/80738699)\n",
    "\n",
    "\n",
    "## 3.  Code"
   ]
  },
  {
   "cell_type": "code",
   "execution_count": 3,
   "metadata": {
    "scrolled": false
   },
   "outputs": [
    {
     "name": "stdout",
     "output_type": "stream",
     "text": [
      "magic1 = 0x     801\n",
      "num   = 10000\n",
      "magic2 = 0x     803\n",
      "rows = 28\n",
      "cols = 28\n"
     ]
    },
    {
     "data": {
      "image/png": "[encoded data removed]",
      "text/plain": [
       "<Figure size 432x288 with 1 Axes>"
      ]
     },
     "metadata": {
      "needs_background": "light"
     },
     "output_type": "display_data"
    }
   ],
   "source": [
    "# -*- coding: utf-8 -*-\n",
    "\"\"\"\n",
    "Ref:\n",
    "https://blog.csdn.net/simple_the_best/article/details/75267863\n",
    "http://yann.lecun.com/exdb/mnist/\n",
    "https://blog.csdn.net/weixin_42042680/article/details/80738699\n",
    "\"\"\"\n",
    "\n",
    "\n",
    "#设置成在jupyter中展示图片\n",
    "%matplotlib inline  \n",
    "\n",
    "import os\n",
    "import struct\n",
    "import random\n",
    "import matplotlib.pyplot as plt\n",
    "import numpy as np\n",
    "\n",
    "\n",
    "def load_mnist(dir_path , kind='train'):\n",
    "    \"\"\"\n",
    "    Load MNIST data from 'dir_path'\n",
    "    \"\"\"\n",
    "    \n",
    "    labels_path = os.path.join(dir_path,'%s-labels-idx1-ubyte'%kind)\n",
    "    images_path = os.path.join(dir_path,'%s-images-idx3-ubyte'%kind)\n",
    "    \n",
    "    \n",
    "    with open(labels_path,'rb')  as lbpath:\n",
    "        magic , num =   struct.unpack('>II',lbpath.read(8)) # > 大端((MSB first) I 一个无符号数\n",
    "        print('magic1 = 0x%8x' % magic)\n",
    "        print('num   = {}'.format(str(num)))\n",
    "        labels      =   np.fromfile(lbpath,dtype=np.uint8)\n",
    "        \n",
    "    with  open(images_path,'rb') as imgpath:\n",
    "        magic,num,rows,cols = struct.unpack('>IIII',imgpath.read(16))\n",
    "        images = np.fromfile(imgpath,dtype=np.uint8).reshape(len(labels),784);\n",
    "        print('magic2 = 0x%8x' % magic)\n",
    "        print(\"rows = {}\".format(str(rows)))\n",
    "        print(\"cols = {}\".format(str(cols)))\n",
    "        \n",
    "        \n",
    "    return images,labels\n",
    "    \n",
    "    \n",
    "if __name__ == '__main__':\n",
    "\n",
    "    mnist_dir_path = 'D:/DATA/MNIST_data/'\n",
    "    images, labels = load_mnist(mnist_dir_path,'t10k') # 't10k' or 'train'\n",
    "    rand_idx = random.randint(0,len(labels)-1)\n",
    "    plt.imshow(images[rand_idx].reshape(28,28),'gray')\n",
    "    plt.title('SampeID = {} , label = {} '.format(str(rand_idx),str(labels[rand_idx])))"
   ]
  }
 ],
 "metadata": {
  "kernelspec": {
   "display_name": "Python 3",
   "language": "python",
   "name": "python3"
  },
  "language_info": {
   "codemirror_mode": {
    "name": "ipython",
    "version": 3
   },
   "file_extension": ".py",
   "mimetype": "text/x-python",
   "name": "python",
   "nbconvert_exporter": "python",
   "pygments_lexer": "ipython3",
   "version": "3.8.3"
  }
 },
 "nbformat": 4,
 "nbformat_minor": 4
}
